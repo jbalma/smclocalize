{
 "cells": [
  {
   "cell_type": "markdown",
   "metadata": {},
   "source": [
    "# Using a sequential Monte Carlo model to localize sensors based on radio pings: process ping data"
   ]
  },
  {
   "cell_type": "markdown",
   "metadata": {},
   "source": [
    "## Load the libraries we need"
   ]
  },
  {
   "cell_type": "markdown",
   "metadata": {},
   "source": [
    "Load the third-party libraries."
   ]
  },
  {
   "cell_type": "code",
   "execution_count": 1,
   "metadata": {
    "scrolled": true
   },
   "outputs": [],
   "source": [
    "import numpy as np\n",
    "import pandas as pd\n",
    "import os"
   ]
  },
  {
   "cell_type": "markdown",
   "metadata": {},
   "source": [
    "Load our `smclocalize` module."
   ]
  },
  {
   "cell_type": "code",
   "execution_count": 2,
   "metadata": {
    "scrolled": false
   },
   "outputs": [],
   "source": [
    "from smclocalize import *"
   ]
  },
  {
   "cell_type": "markdown",
   "metadata": {},
   "source": [
    "## Load the ping data"
   ]
  },
  {
   "cell_type": "markdown",
   "metadata": {},
   "source": [
    "The ping data is in a set of JSON files (one for each time window) in the format produced by [tools/get_radio_obs.py](https://github.com/WildflowerSchools/sensei/blob/master/tools/get_radio_obs.py) from the [sensei repository](https://github.com/WildflowerSchools/sensei)."
   ]
  },
  {
   "cell_type": "code",
   "execution_count": 3,
   "metadata": {
    "scrolled": false
   },
   "outputs": [],
   "source": [
    "data_path = './data/'"
   ]
  },
  {
   "cell_type": "code",
   "execution_count": 4,
   "metadata": {},
   "outputs": [],
   "source": [
    "data_run_directory = 'wildflower_171128/'"
   ]
  },
  {
   "cell_type": "code",
   "execution_count": 5,
   "metadata": {},
   "outputs": [],
   "source": [
    "json_directory = 'json/'"
   ]
  },
  {
   "cell_type": "code",
   "execution_count": 6,
   "metadata": {
    "scrolled": false
   },
   "outputs": [],
   "source": [
    "json_input_files = [x for x in os.listdir(data_path + data_run_directory + json_directory) if x.endswith('.json')]"
   ]
  },
  {
   "cell_type": "code",
   "execution_count": 7,
   "metadata": {
    "scrolled": false
   },
   "outputs": [],
   "source": [
    "dataframes = []"
   ]
  },
  {
   "cell_type": "code",
   "execution_count": 8,
   "metadata": {
    "scrolled": false
   },
   "outputs": [],
   "source": [
    "for json_input_file in json_input_files:\n",
    "    with open(os.path.join(data_path, data_run_directory, json_directory, json_input_file), 'r') as input_fullpath:\n",
    "        dataframes.append(pd.read_json(input_fullpath))"
   ]
  },
  {
   "cell_type": "code",
   "execution_count": 9,
   "metadata": {
    "scrolled": false
   },
   "outputs": [],
   "source": [
    "all_data = pd.concat(dataframes, ignore_index = True)"
   ]
  },
  {
   "cell_type": "code",
   "execution_count": 10,
   "metadata": {
    "scrolled": true
   },
   "outputs": [
    {
     "data": {
      "text/html": [
       "<div>\n",
       "<style scoped>\n",
       "    .dataframe tbody tr th:only-of-type {\n",
       "        vertical-align: middle;\n",
       "    }\n",
       "\n",
       "    .dataframe tbody tr th {\n",
       "        vertical-align: top;\n",
       "    }\n",
       "\n",
       "    .dataframe thead th {\n",
       "        text-align: right;\n",
       "    }\n",
       "</style>\n",
       "<table border=\"1\" class=\"dataframe\">\n",
       "  <thead>\n",
       "    <tr style=\"text-align: right;\">\n",
       "      <th></th>\n",
       "      <th>local_id</th>\n",
       "      <th>local_type</th>\n",
       "      <th>observed_at</th>\n",
       "      <th>remote_id</th>\n",
       "      <th>remote_type</th>\n",
       "      <th>rssi</th>\n",
       "    </tr>\n",
       "  </thead>\n",
       "  <tbody>\n",
       "    <tr>\n",
       "      <th>0</th>\n",
       "      <td>8</td>\n",
       "      <td>area</td>\n",
       "      <td>2017-11-28 14:00:00</td>\n",
       "      <td>11061</td>\n",
       "      <td>child</td>\n",
       "      <td>-88</td>\n",
       "    </tr>\n",
       "    <tr>\n",
       "      <th>1</th>\n",
       "      <td>8</td>\n",
       "      <td>area</td>\n",
       "      <td>2017-11-28 14:00:00</td>\n",
       "      <td>11060</td>\n",
       "      <td>child</td>\n",
       "      <td>-91</td>\n",
       "    </tr>\n",
       "    <tr>\n",
       "      <th>2</th>\n",
       "      <td>12</td>\n",
       "      <td>area</td>\n",
       "      <td>2017-11-28 14:00:00</td>\n",
       "      <td>11060</td>\n",
       "      <td>child</td>\n",
       "      <td>-83</td>\n",
       "    </tr>\n",
       "    <tr>\n",
       "      <th>3</th>\n",
       "      <td>13</td>\n",
       "      <td>area</td>\n",
       "      <td>2017-11-28 14:00:00</td>\n",
       "      <td>11067</td>\n",
       "      <td>child</td>\n",
       "      <td>-86</td>\n",
       "    </tr>\n",
       "    <tr>\n",
       "      <th>4</th>\n",
       "      <td>9</td>\n",
       "      <td>area</td>\n",
       "      <td>2017-11-28 14:00:00</td>\n",
       "      <td>11067</td>\n",
       "      <td>child</td>\n",
       "      <td>-82</td>\n",
       "    </tr>\n",
       "    <tr>\n",
       "      <th>5</th>\n",
       "      <td>9</td>\n",
       "      <td>area</td>\n",
       "      <td>2017-11-28 14:00:00</td>\n",
       "      <td>11060</td>\n",
       "      <td>child</td>\n",
       "      <td>-85</td>\n",
       "    </tr>\n",
       "    <tr>\n",
       "      <th>6</th>\n",
       "      <td>9</td>\n",
       "      <td>area</td>\n",
       "      <td>2017-11-28 14:00:00</td>\n",
       "      <td>11061</td>\n",
       "      <td>child</td>\n",
       "      <td>-83</td>\n",
       "    </tr>\n",
       "    <tr>\n",
       "      <th>7</th>\n",
       "      <td>11060</td>\n",
       "      <td>child</td>\n",
       "      <td>2017-11-28 14:00:00</td>\n",
       "      <td>11061</td>\n",
       "      <td>child</td>\n",
       "      <td>-71</td>\n",
       "    </tr>\n",
       "    <tr>\n",
       "      <th>8</th>\n",
       "      <td>11060</td>\n",
       "      <td>child</td>\n",
       "      <td>2017-11-28 14:00:00</td>\n",
       "      <td>11067</td>\n",
       "      <td>child</td>\n",
       "      <td>-69</td>\n",
       "    </tr>\n",
       "    <tr>\n",
       "      <th>9</th>\n",
       "      <td>11062</td>\n",
       "      <td>child</td>\n",
       "      <td>2017-11-28 14:00:00</td>\n",
       "      <td>11067</td>\n",
       "      <td>child</td>\n",
       "      <td>-81</td>\n",
       "    </tr>\n",
       "    <tr>\n",
       "      <th>10</th>\n",
       "      <td>11067</td>\n",
       "      <td>child</td>\n",
       "      <td>2017-11-28 14:00:00</td>\n",
       "      <td>11060</td>\n",
       "      <td>child</td>\n",
       "      <td>-69</td>\n",
       "    </tr>\n",
       "    <tr>\n",
       "      <th>11</th>\n",
       "      <td>11067</td>\n",
       "      <td>child</td>\n",
       "      <td>2017-11-28 14:00:00</td>\n",
       "      <td>11061</td>\n",
       "      <td>child</td>\n",
       "      <td>-71</td>\n",
       "    </tr>\n",
       "    <tr>\n",
       "      <th>12</th>\n",
       "      <td>11061</td>\n",
       "      <td>child</td>\n",
       "      <td>2017-11-28 14:00:00</td>\n",
       "      <td>11060</td>\n",
       "      <td>child</td>\n",
       "      <td>-71</td>\n",
       "    </tr>\n",
       "    <tr>\n",
       "      <th>13</th>\n",
       "      <td>11061</td>\n",
       "      <td>child</td>\n",
       "      <td>2017-11-28 14:00:00</td>\n",
       "      <td>11067</td>\n",
       "      <td>child</td>\n",
       "      <td>-70</td>\n",
       "    </tr>\n",
       "    <tr>\n",
       "      <th>14</th>\n",
       "      <td>5613</td>\n",
       "      <td>teacher</td>\n",
       "      <td>2017-11-28 14:00:00</td>\n",
       "      <td>9</td>\n",
       "      <td>area</td>\n",
       "      <td>-78</td>\n",
       "    </tr>\n",
       "    <tr>\n",
       "      <th>15</th>\n",
       "      <td>11</td>\n",
       "      <td>area</td>\n",
       "      <td>2017-11-28 14:00:00</td>\n",
       "      <td>11062</td>\n",
       "      <td>child</td>\n",
       "      <td>-73</td>\n",
       "    </tr>\n",
       "    <tr>\n",
       "      <th>16</th>\n",
       "      <td>11</td>\n",
       "      <td>area</td>\n",
       "      <td>2017-11-28 14:00:00</td>\n",
       "      <td>11061</td>\n",
       "      <td>child</td>\n",
       "      <td>-74</td>\n",
       "    </tr>\n",
       "    <tr>\n",
       "      <th>17</th>\n",
       "      <td>11</td>\n",
       "      <td>area</td>\n",
       "      <td>2017-11-28 14:00:00</td>\n",
       "      <td>11060</td>\n",
       "      <td>child</td>\n",
       "      <td>-72</td>\n",
       "    </tr>\n",
       "    <tr>\n",
       "      <th>18</th>\n",
       "      <td>11065</td>\n",
       "      <td>child</td>\n",
       "      <td>2017-11-28 14:00:00</td>\n",
       "      <td>11060</td>\n",
       "      <td>child</td>\n",
       "      <td>-69</td>\n",
       "    </tr>\n",
       "    <tr>\n",
       "      <th>19</th>\n",
       "      <td>11065</td>\n",
       "      <td>child</td>\n",
       "      <td>2017-11-28 14:00:00</td>\n",
       "      <td>11067</td>\n",
       "      <td>child</td>\n",
       "      <td>-55</td>\n",
       "    </tr>\n",
       "    <tr>\n",
       "      <th>20</th>\n",
       "      <td>11066</td>\n",
       "      <td>child</td>\n",
       "      <td>2017-11-28 14:00:00</td>\n",
       "      <td>11062</td>\n",
       "      <td>child</td>\n",
       "      <td>-66</td>\n",
       "    </tr>\n",
       "    <tr>\n",
       "      <th>21</th>\n",
       "      <td>1208464</td>\n",
       "      <td>material</td>\n",
       "      <td>2017-11-28 14:00:00</td>\n",
       "      <td>39282</td>\n",
       "      <td>child</td>\n",
       "      <td>-79</td>\n",
       "    </tr>\n",
       "    <tr>\n",
       "      <th>22</th>\n",
       "      <td>1208463</td>\n",
       "      <td>material</td>\n",
       "      <td>2017-11-28 14:00:00</td>\n",
       "      <td>11067</td>\n",
       "      <td>child</td>\n",
       "      <td>-77</td>\n",
       "    </tr>\n",
       "    <tr>\n",
       "      <th>23</th>\n",
       "      <td>11067</td>\n",
       "      <td>child</td>\n",
       "      <td>2017-11-28 14:00:00</td>\n",
       "      <td>39282</td>\n",
       "      <td>child</td>\n",
       "      <td>-77</td>\n",
       "    </tr>\n",
       "    <tr>\n",
       "      <th>24</th>\n",
       "      <td>11060</td>\n",
       "      <td>child</td>\n",
       "      <td>2017-11-28 14:00:00</td>\n",
       "      <td>39282</td>\n",
       "      <td>child</td>\n",
       "      <td>-75</td>\n",
       "    </tr>\n",
       "    <tr>\n",
       "      <th>25</th>\n",
       "      <td>39282</td>\n",
       "      <td>child</td>\n",
       "      <td>2017-11-28 14:00:00</td>\n",
       "      <td>11061</td>\n",
       "      <td>child</td>\n",
       "      <td>-53</td>\n",
       "    </tr>\n",
       "    <tr>\n",
       "      <th>26</th>\n",
       "      <td>39282</td>\n",
       "      <td>child</td>\n",
       "      <td>2017-11-28 14:00:00</td>\n",
       "      <td>11067</td>\n",
       "      <td>child</td>\n",
       "      <td>-76</td>\n",
       "    </tr>\n",
       "    <tr>\n",
       "      <th>27</th>\n",
       "      <td>39282</td>\n",
       "      <td>child</td>\n",
       "      <td>2017-11-28 14:00:00</td>\n",
       "      <td>47422</td>\n",
       "      <td>child</td>\n",
       "      <td>-68</td>\n",
       "    </tr>\n",
       "    <tr>\n",
       "      <th>28</th>\n",
       "      <td>39282</td>\n",
       "      <td>child</td>\n",
       "      <td>2017-11-28 14:00:00</td>\n",
       "      <td>11060</td>\n",
       "      <td>child</td>\n",
       "      <td>-75</td>\n",
       "    </tr>\n",
       "    <tr>\n",
       "      <th>29</th>\n",
       "      <td>11061</td>\n",
       "      <td>child</td>\n",
       "      <td>2017-11-28 14:00:00</td>\n",
       "      <td>39282</td>\n",
       "      <td>child</td>\n",
       "      <td>-52</td>\n",
       "    </tr>\n",
       "    <tr>\n",
       "      <th>...</th>\n",
       "      <td>...</td>\n",
       "      <td>...</td>\n",
       "      <td>...</td>\n",
       "      <td>...</td>\n",
       "      <td>...</td>\n",
       "      <td>...</td>\n",
       "    </tr>\n",
       "    <tr>\n",
       "      <th>108424</th>\n",
       "      <td>11</td>\n",
       "      <td>area</td>\n",
       "      <td>2017-11-28 20:00:00</td>\n",
       "      <td>11060</td>\n",
       "      <td>child</td>\n",
       "      <td>-67</td>\n",
       "    </tr>\n",
       "    <tr>\n",
       "      <th>108425</th>\n",
       "      <td>11</td>\n",
       "      <td>area</td>\n",
       "      <td>2017-11-28 20:00:00</td>\n",
       "      <td>11067</td>\n",
       "      <td>child</td>\n",
       "      <td>-73</td>\n",
       "    </tr>\n",
       "    <tr>\n",
       "      <th>108426</th>\n",
       "      <td>8</td>\n",
       "      <td>area</td>\n",
       "      <td>2017-11-28 20:00:00</td>\n",
       "      <td>5612</td>\n",
       "      <td>teacher</td>\n",
       "      <td>-89</td>\n",
       "    </tr>\n",
       "    <tr>\n",
       "      <th>108427</th>\n",
       "      <td>5612</td>\n",
       "      <td>teacher</td>\n",
       "      <td>2017-11-28 20:00:00</td>\n",
       "      <td>11067</td>\n",
       "      <td>child</td>\n",
       "      <td>-87</td>\n",
       "    </tr>\n",
       "    <tr>\n",
       "      <th>108428</th>\n",
       "      <td>5612</td>\n",
       "      <td>teacher</td>\n",
       "      <td>2017-11-28 20:00:00</td>\n",
       "      <td>11060</td>\n",
       "      <td>child</td>\n",
       "      <td>-85</td>\n",
       "    </tr>\n",
       "    <tr>\n",
       "      <th>108429</th>\n",
       "      <td>5612</td>\n",
       "      <td>teacher</td>\n",
       "      <td>2017-11-28 20:00:00</td>\n",
       "      <td>12</td>\n",
       "      <td>area</td>\n",
       "      <td>-79</td>\n",
       "    </tr>\n",
       "    <tr>\n",
       "      <th>108430</th>\n",
       "      <td>1208463</td>\n",
       "      <td>material</td>\n",
       "      <td>2017-11-28 20:00:00</td>\n",
       "      <td>11067</td>\n",
       "      <td>child</td>\n",
       "      <td>-81</td>\n",
       "    </tr>\n",
       "    <tr>\n",
       "      <th>108431</th>\n",
       "      <td>11067</td>\n",
       "      <td>child</td>\n",
       "      <td>2017-11-28 20:00:00</td>\n",
       "      <td>1208463</td>\n",
       "      <td>material</td>\n",
       "      <td>-82</td>\n",
       "    </tr>\n",
       "    <tr>\n",
       "      <th>108432</th>\n",
       "      <td>11067</td>\n",
       "      <td>child</td>\n",
       "      <td>2017-11-28 20:00:00</td>\n",
       "      <td>1208471</td>\n",
       "      <td>material</td>\n",
       "      <td>-81</td>\n",
       "    </tr>\n",
       "    <tr>\n",
       "      <th>108433</th>\n",
       "      <td>11061</td>\n",
       "      <td>child</td>\n",
       "      <td>2017-11-28 20:00:00</td>\n",
       "      <td>1208471</td>\n",
       "      <td>material</td>\n",
       "      <td>-71</td>\n",
       "    </tr>\n",
       "    <tr>\n",
       "      <th>108434</th>\n",
       "      <td>1208471</td>\n",
       "      <td>material</td>\n",
       "      <td>2017-11-28 20:00:00</td>\n",
       "      <td>11067</td>\n",
       "      <td>child</td>\n",
       "      <td>-80</td>\n",
       "    </tr>\n",
       "    <tr>\n",
       "      <th>108435</th>\n",
       "      <td>1208471</td>\n",
       "      <td>material</td>\n",
       "      <td>2017-11-28 20:00:00</td>\n",
       "      <td>11060</td>\n",
       "      <td>child</td>\n",
       "      <td>-84</td>\n",
       "    </tr>\n",
       "    <tr>\n",
       "      <th>108436</th>\n",
       "      <td>1208471</td>\n",
       "      <td>material</td>\n",
       "      <td>2017-11-28 20:00:00</td>\n",
       "      <td>11061</td>\n",
       "      <td>child</td>\n",
       "      <td>-71</td>\n",
       "    </tr>\n",
       "    <tr>\n",
       "      <th>108437</th>\n",
       "      <td>12</td>\n",
       "      <td>area</td>\n",
       "      <td>2017-11-28 20:00:00</td>\n",
       "      <td>62461</td>\n",
       "      <td>child</td>\n",
       "      <td>-75</td>\n",
       "    </tr>\n",
       "    <tr>\n",
       "      <th>108438</th>\n",
       "      <td>11060</td>\n",
       "      <td>child</td>\n",
       "      <td>2017-11-28 20:00:00</td>\n",
       "      <td>1208463</td>\n",
       "      <td>material</td>\n",
       "      <td>-82</td>\n",
       "    </tr>\n",
       "    <tr>\n",
       "      <th>108439</th>\n",
       "      <td>5612</td>\n",
       "      <td>teacher</td>\n",
       "      <td>2017-11-28 20:00:00</td>\n",
       "      <td>1208464</td>\n",
       "      <td>material</td>\n",
       "      <td>-81</td>\n",
       "    </tr>\n",
       "    <tr>\n",
       "      <th>108440</th>\n",
       "      <td>1208464</td>\n",
       "      <td>material</td>\n",
       "      <td>2017-11-28 20:00:00</td>\n",
       "      <td>11060</td>\n",
       "      <td>child</td>\n",
       "      <td>-76</td>\n",
       "    </tr>\n",
       "    <tr>\n",
       "      <th>108441</th>\n",
       "      <td>11060</td>\n",
       "      <td>child</td>\n",
       "      <td>2017-11-28 20:00:00</td>\n",
       "      <td>1208464</td>\n",
       "      <td>material</td>\n",
       "      <td>-76</td>\n",
       "    </tr>\n",
       "    <tr>\n",
       "      <th>108442</th>\n",
       "      <td>11061</td>\n",
       "      <td>child</td>\n",
       "      <td>2017-11-28 20:00:00</td>\n",
       "      <td>1208464</td>\n",
       "      <td>material</td>\n",
       "      <td>-83</td>\n",
       "    </tr>\n",
       "    <tr>\n",
       "      <th>108443</th>\n",
       "      <td>5613</td>\n",
       "      <td>teacher</td>\n",
       "      <td>2017-11-28 20:00:00</td>\n",
       "      <td>1208464</td>\n",
       "      <td>material</td>\n",
       "      <td>-74</td>\n",
       "    </tr>\n",
       "    <tr>\n",
       "      <th>108444</th>\n",
       "      <td>1208469</td>\n",
       "      <td>material</td>\n",
       "      <td>2017-11-28 20:00:00</td>\n",
       "      <td>5613</td>\n",
       "      <td>teacher</td>\n",
       "      <td>-78</td>\n",
       "    </tr>\n",
       "    <tr>\n",
       "      <th>108445</th>\n",
       "      <td>5613</td>\n",
       "      <td>teacher</td>\n",
       "      <td>2017-11-28 20:00:00</td>\n",
       "      <td>1208469</td>\n",
       "      <td>material</td>\n",
       "      <td>-80</td>\n",
       "    </tr>\n",
       "    <tr>\n",
       "      <th>108446</th>\n",
       "      <td>5613</td>\n",
       "      <td>teacher</td>\n",
       "      <td>2017-11-28 20:00:00</td>\n",
       "      <td>1208463</td>\n",
       "      <td>material</td>\n",
       "      <td>-80</td>\n",
       "    </tr>\n",
       "    <tr>\n",
       "      <th>108447</th>\n",
       "      <td>1208463</td>\n",
       "      <td>material</td>\n",
       "      <td>2017-11-28 20:00:00</td>\n",
       "      <td>5613</td>\n",
       "      <td>teacher</td>\n",
       "      <td>-80</td>\n",
       "    </tr>\n",
       "    <tr>\n",
       "      <th>108448</th>\n",
       "      <td>5612</td>\n",
       "      <td>teacher</td>\n",
       "      <td>2017-11-28 20:00:00</td>\n",
       "      <td>1208461</td>\n",
       "      <td>material</td>\n",
       "      <td>-67</td>\n",
       "    </tr>\n",
       "    <tr>\n",
       "      <th>108449</th>\n",
       "      <td>1208461</td>\n",
       "      <td>material</td>\n",
       "      <td>2017-11-28 20:00:00</td>\n",
       "      <td>5612</td>\n",
       "      <td>teacher</td>\n",
       "      <td>-67</td>\n",
       "    </tr>\n",
       "    <tr>\n",
       "      <th>108450</th>\n",
       "      <td>9</td>\n",
       "      <td>area</td>\n",
       "      <td>2017-11-28 20:00:00</td>\n",
       "      <td>31986</td>\n",
       "      <td>teacher</td>\n",
       "      <td>-82</td>\n",
       "    </tr>\n",
       "    <tr>\n",
       "      <th>108451</th>\n",
       "      <td>31986</td>\n",
       "      <td>teacher</td>\n",
       "      <td>2017-11-28 20:00:00</td>\n",
       "      <td>9</td>\n",
       "      <td>area</td>\n",
       "      <td>-82</td>\n",
       "    </tr>\n",
       "    <tr>\n",
       "      <th>108452</th>\n",
       "      <td>10</td>\n",
       "      <td>area</td>\n",
       "      <td>2017-11-28 20:00:00</td>\n",
       "      <td>31986</td>\n",
       "      <td>teacher</td>\n",
       "      <td>-81</td>\n",
       "    </tr>\n",
       "    <tr>\n",
       "      <th>108453</th>\n",
       "      <td>31986</td>\n",
       "      <td>teacher</td>\n",
       "      <td>2017-11-28 20:00:00</td>\n",
       "      <td>10</td>\n",
       "      <td>area</td>\n",
       "      <td>-81</td>\n",
       "    </tr>\n",
       "  </tbody>\n",
       "</table>\n",
       "<p>108454 rows × 6 columns</p>\n",
       "</div>"
      ],
      "text/plain": [
       "        local_id local_type         observed_at  remote_id remote_type  rssi\n",
       "0              8       area 2017-11-28 14:00:00      11061       child   -88\n",
       "1              8       area 2017-11-28 14:00:00      11060       child   -91\n",
       "2             12       area 2017-11-28 14:00:00      11060       child   -83\n",
       "3             13       area 2017-11-28 14:00:00      11067       child   -86\n",
       "4              9       area 2017-11-28 14:00:00      11067       child   -82\n",
       "5              9       area 2017-11-28 14:00:00      11060       child   -85\n",
       "6              9       area 2017-11-28 14:00:00      11061       child   -83\n",
       "7          11060      child 2017-11-28 14:00:00      11061       child   -71\n",
       "8          11060      child 2017-11-28 14:00:00      11067       child   -69\n",
       "9          11062      child 2017-11-28 14:00:00      11067       child   -81\n",
       "10         11067      child 2017-11-28 14:00:00      11060       child   -69\n",
       "11         11067      child 2017-11-28 14:00:00      11061       child   -71\n",
       "12         11061      child 2017-11-28 14:00:00      11060       child   -71\n",
       "13         11061      child 2017-11-28 14:00:00      11067       child   -70\n",
       "14          5613    teacher 2017-11-28 14:00:00          9        area   -78\n",
       "15            11       area 2017-11-28 14:00:00      11062       child   -73\n",
       "16            11       area 2017-11-28 14:00:00      11061       child   -74\n",
       "17            11       area 2017-11-28 14:00:00      11060       child   -72\n",
       "18         11065      child 2017-11-28 14:00:00      11060       child   -69\n",
       "19         11065      child 2017-11-28 14:00:00      11067       child   -55\n",
       "20         11066      child 2017-11-28 14:00:00      11062       child   -66\n",
       "21       1208464   material 2017-11-28 14:00:00      39282       child   -79\n",
       "22       1208463   material 2017-11-28 14:00:00      11067       child   -77\n",
       "23         11067      child 2017-11-28 14:00:00      39282       child   -77\n",
       "24         11060      child 2017-11-28 14:00:00      39282       child   -75\n",
       "25         39282      child 2017-11-28 14:00:00      11061       child   -53\n",
       "26         39282      child 2017-11-28 14:00:00      11067       child   -76\n",
       "27         39282      child 2017-11-28 14:00:00      47422       child   -68\n",
       "28         39282      child 2017-11-28 14:00:00      11060       child   -75\n",
       "29         11061      child 2017-11-28 14:00:00      39282       child   -52\n",
       "...          ...        ...                 ...        ...         ...   ...\n",
       "108424        11       area 2017-11-28 20:00:00      11060       child   -67\n",
       "108425        11       area 2017-11-28 20:00:00      11067       child   -73\n",
       "108426         8       area 2017-11-28 20:00:00       5612     teacher   -89\n",
       "108427      5612    teacher 2017-11-28 20:00:00      11067       child   -87\n",
       "108428      5612    teacher 2017-11-28 20:00:00      11060       child   -85\n",
       "108429      5612    teacher 2017-11-28 20:00:00         12        area   -79\n",
       "108430   1208463   material 2017-11-28 20:00:00      11067       child   -81\n",
       "108431     11067      child 2017-11-28 20:00:00    1208463    material   -82\n",
       "108432     11067      child 2017-11-28 20:00:00    1208471    material   -81\n",
       "108433     11061      child 2017-11-28 20:00:00    1208471    material   -71\n",
       "108434   1208471   material 2017-11-28 20:00:00      11067       child   -80\n",
       "108435   1208471   material 2017-11-28 20:00:00      11060       child   -84\n",
       "108436   1208471   material 2017-11-28 20:00:00      11061       child   -71\n",
       "108437        12       area 2017-11-28 20:00:00      62461       child   -75\n",
       "108438     11060      child 2017-11-28 20:00:00    1208463    material   -82\n",
       "108439      5612    teacher 2017-11-28 20:00:00    1208464    material   -81\n",
       "108440   1208464   material 2017-11-28 20:00:00      11060       child   -76\n",
       "108441     11060      child 2017-11-28 20:00:00    1208464    material   -76\n",
       "108442     11061      child 2017-11-28 20:00:00    1208464    material   -83\n",
       "108443      5613    teacher 2017-11-28 20:00:00    1208464    material   -74\n",
       "108444   1208469   material 2017-11-28 20:00:00       5613     teacher   -78\n",
       "108445      5613    teacher 2017-11-28 20:00:00    1208469    material   -80\n",
       "108446      5613    teacher 2017-11-28 20:00:00    1208463    material   -80\n",
       "108447   1208463   material 2017-11-28 20:00:00       5613     teacher   -80\n",
       "108448      5612    teacher 2017-11-28 20:00:00    1208461    material   -67\n",
       "108449   1208461   material 2017-11-28 20:00:00       5612     teacher   -67\n",
       "108450         9       area 2017-11-28 20:00:00      31986     teacher   -82\n",
       "108451     31986    teacher 2017-11-28 20:00:00          9        area   -82\n",
       "108452        10       area 2017-11-28 20:00:00      31986     teacher   -81\n",
       "108453     31986    teacher 2017-11-28 20:00:00         10        area   -81\n",
       "\n",
       "[108454 rows x 6 columns]"
      ]
     },
     "execution_count": 10,
     "metadata": {},
     "output_type": "execute_result"
    }
   ],
   "source": [
    "all_data"
   ]
  },
  {
   "cell_type": "markdown",
   "metadata": {},
   "source": [
    "Remove the data from the area sensor in the bathroom because it will produce strange results (given the vertical offset)"
   ]
  },
  {
   "cell_type": "code",
   "execution_count": 11,
   "metadata": {},
   "outputs": [],
   "source": [
    "usable_data = all_data[(all_data['remote_id'] != 8) &\n",
    "                       (all_data['local_id'] != 8)].reset_index(drop=True)"
   ]
  },
  {
   "cell_type": "markdown",
   "metadata": {},
   "source": [
    "## Extract entity IDs"
   ]
  },
  {
   "cell_type": "markdown",
   "metadata": {},
   "source": [
    "Extract the list of entity IDs in our data set corresponding to each type of sensors. These lists are the basis for our variable structure."
   ]
  },
  {
   "cell_type": "code",
   "execution_count": 12,
   "metadata": {
    "scrolled": false
   },
   "outputs": [],
   "source": [
    "child_entity_ids = np.union1d(pd.unique(usable_data[usable_data.local_type == 'child'].local_id),\n",
    "                              pd.unique(usable_data[usable_data.remote_type == 'child'].remote_id)).tolist()\n",
    "material_entity_ids = np.union1d(pd.unique(usable_data[usable_data.local_type == 'material'].local_id),\n",
    "                                 pd.unique(usable_data[usable_data.remote_type == 'material'].remote_id)).tolist()\n",
    "teacher_entity_ids = np.union1d(pd.unique(usable_data[usable_data.local_type == 'teacher'].local_id),\n",
    "                                pd.unique(usable_data[usable_data.remote_type == 'teacher'].remote_id)).tolist()\n",
    "area_entity_ids = np.union1d(pd.unique(usable_data[usable_data.local_type == 'area'].local_id),\n",
    "                             pd.unique(usable_data[usable_data.remote_type == 'area'].remote_id)).tolist()"
   ]
  },
  {
   "cell_type": "markdown",
   "metadata": {},
   "source": [
    "## Define the variable structure for the model"
   ]
  },
  {
   "cell_type": "markdown",
   "metadata": {},
   "source": [
    "Using the lists of entity IDs, define an instance of the `SensorVariableStructure` class. This class provides a whole bunch of variables and helper functions for working with the data."
   ]
  },
  {
   "cell_type": "code",
   "execution_count": 13,
   "metadata": {
    "scrolled": false
   },
   "outputs": [],
   "source": [
    "variable_structure = SensorVariableStructure(child_entity_ids,\n",
    "                                             material_entity_ids,\n",
    "                                             teacher_entity_ids,\n",
    "                                             area_entity_ids)"
   ]
  },
  {
   "cell_type": "markdown",
   "metadata": {},
   "source": [
    "## Restructure the ping data for use in the model"
   ]
  },
  {
   "cell_type": "markdown",
   "metadata": {},
   "source": [
    "Using the helper functions from the `SensorVariableStructure` class, parse the data into arrays which represent the discrete and continuous components of the $\\mathbf{Y}$ variables which we will use in the model."
   ]
  },
  {
   "cell_type": "markdown",
   "metadata": {},
   "source": [
    "In the below, we parse the data separately for each time step in order to mimic the real-time use case. There is also a helper function called `sensor_data_parse_multiple_timesteps()` for parsing an entire data set containing many timesteps (not shown here)."
   ]
  },
  {
   "cell_type": "markdown",
   "metadata": {},
   "source": [
    "For `y_discrete_t`, use 0 to indicate that a ping was received and 1 to indicate that a ping was not received (don't ask). For `y_continuous_t`, we convert the integer RSSI values to floats (since we're treating RSSI as a continuous variable) and we just enter a 0.0 value for RSSI if no ping was received."
   ]
  },
  {
   "cell_type": "code",
   "execution_count": 14,
   "metadata": {
    "scrolled": false
   },
   "outputs": [],
   "source": [
    "timestamps = np.sort(usable_data['observed_at'].unique())\n",
    "num_timesteps = len(timestamps)\n",
    "y_discrete_t = np.ones(\n",
    "    (num_timesteps, variable_structure.num_y_discrete_vars),\n",
    "    dtype='int')\n",
    "y_continuous_t = np.zeros(\n",
    "    (num_timesteps, variable_structure.num_y_continuous_vars),\n",
    "    dtype='float')\n",
    "for t_index in range(num_timesteps):\n",
    "    (y_discrete_t[t_index], y_continuous_t[t_index]) = variable_structure.sensor_data_parse_one_timestep(\n",
    "        usable_data[usable_data['observed_at'] == timestamps[t_index]])"
   ]
  },
  {
   "cell_type": "markdown",
   "metadata": {},
   "source": [
    "Apply some basic sanity checks."
   ]
  },
  {
   "cell_type": "code",
   "execution_count": 15,
   "metadata": {
    "scrolled": false
   },
   "outputs": [],
   "source": [
    "timestamp_range = pd.date_range(usable_data['observed_at'].min(), usable_data['observed_at'].max(), freq='10S')"
   ]
  },
  {
   "cell_type": "code",
   "execution_count": 16,
   "metadata": {
    "scrolled": false
   },
   "outputs": [
    {
     "data": {
      "text/plain": [
       "array(['2017-11-28T14:40:10.000000000', '2017-11-28T14:40:20.000000000',\n",
       "       '2017-11-28T14:40:30.000000000'], dtype='datetime64[ns]')"
      ]
     },
     "execution_count": 16,
     "metadata": {},
     "output_type": "execute_result"
    }
   ],
   "source": [
    "np.setdiff1d(timestamp_range, timestamps)"
   ]
  },
  {
   "cell_type": "markdown",
   "metadata": {},
   "source": [
    "There were three time windows in which no ping data was received."
   ]
  },
  {
   "cell_type": "markdown",
   "metadata": {},
   "source": [
    "Check to make sure that the post-processed data and the pre-processed data agree on the total number of pings received."
   ]
  },
  {
   "cell_type": "code",
   "execution_count": 17,
   "metadata": {
    "scrolled": false
   },
   "outputs": [
    {
     "data": {
      "text/plain": [
       "106749"
      ]
     },
     "execution_count": 17,
     "metadata": {},
     "output_type": "execute_result"
    }
   ],
   "source": [
    "np.sum(y_discrete_t == 0)"
   ]
  },
  {
   "cell_type": "code",
   "execution_count": 18,
   "metadata": {
    "scrolled": false
   },
   "outputs": [
    {
     "data": {
      "text/plain": [
       "106749"
      ]
     },
     "execution_count": 18,
     "metadata": {},
     "output_type": "execute_result"
    }
   ],
   "source": [
    "np.sum(y_continuous_t != 0.0)"
   ]
  },
  {
   "cell_type": "code",
   "execution_count": 19,
   "metadata": {
    "scrolled": false
   },
   "outputs": [
    {
     "data": {
      "text/plain": [
       "106749"
      ]
     },
     "execution_count": 19,
     "metadata": {},
     "output_type": "execute_result"
    }
   ],
   "source": [
    "len(usable_data)"
   ]
  },
  {
   "cell_type": "markdown",
   "metadata": {},
   "source": [
    "## Save the ping data"
   ]
  },
  {
   "cell_type": "code",
   "execution_count": 20,
   "metadata": {},
   "outputs": [],
   "source": [
    "numpy_directory = 'numpy/'"
   ]
  },
  {
   "cell_type": "code",
   "execution_count": 21,
   "metadata": {},
   "outputs": [],
   "source": [
    "data_numpy_filename = 'ping_data'"
   ]
  },
  {
   "cell_type": "code",
   "execution_count": 22,
   "metadata": {},
   "outputs": [],
   "source": [
    "np.savez(\n",
    "    data_path + data_run_directory + numpy_directory + data_numpy_filename,\n",
    "    child_entity_ids = child_entity_ids,\n",
    "    material_entity_ids = material_entity_ids,\n",
    "    teacher_entity_ids = teacher_entity_ids,\n",
    "    area_entity_ids = area_entity_ids,\n",
    "    timestamps = timestamps,\n",
    "    num_timesteps = num_timesteps,\n",
    "    y_discrete_t = y_discrete_t,\n",
    "    y_continuous_t = y_continuous_t)"
   ]
  },
  {
   "cell_type": "markdown",
   "metadata": {},
   "source": [
    "## Calculate and save the same data in matrix format"
   ]
  },
  {
   "cell_type": "code",
   "execution_count": 23,
   "metadata": {
    "scrolled": false
   },
   "outputs": [],
   "source": [
    "y_discrete_all_sensors_t = np.ones(\n",
    "    (num_timesteps, variable_structure.num_sensors, variable_structure.num_sensors),\n",
    "    dtype='int')\n",
    "y_continuous_all_sensors_t = np.zeros(\n",
    "    (num_timesteps, variable_structure.num_sensors, variable_structure.num_sensors),\n",
    "    dtype='float')\n",
    "for t_index in range(num_timesteps):\n",
    "    (y_discrete_all_sensors_t[t_index], y_continuous_all_sensors_t[t_index]) = variable_structure.sensor_data_all_sensors_one_timestep(\n",
    "        usable_data[usable_data['observed_at'] == timestamps[t_index]])"
   ]
  },
  {
   "cell_type": "code",
   "execution_count": 24,
   "metadata": {},
   "outputs": [],
   "source": [
    "data_numpy_filename_all_sensors = 'ping_data_all_sensors'"
   ]
  },
  {
   "cell_type": "code",
   "execution_count": 25,
   "metadata": {},
   "outputs": [],
   "source": [
    "np.savez(\n",
    "    data_path + data_run_directory + numpy_directory + data_numpy_filename_all_sensors,\n",
    "    y_discrete_all_sensors_t = y_discrete_all_sensors_t,\n",
    "    y_continuous_all_sensors_t = y_continuous_all_sensors_t)"
   ]
  }
 ],
 "metadata": {
  "kernelspec": {
   "display_name": "smclocalizev3",
   "language": "python",
   "name": "smclocalizev3"
  },
  "language_info": {
   "codemirror_mode": {
    "name": "ipython",
    "version": 3
   },
   "file_extension": ".py",
   "mimetype": "text/x-python",
   "name": "python",
   "nbconvert_exporter": "python",
   "pygments_lexer": "ipython3",
   "version": "3.6.4"
  }
 },
 "nbformat": 4,
 "nbformat_minor": 2
}
